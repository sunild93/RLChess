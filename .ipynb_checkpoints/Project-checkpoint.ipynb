{
 "cells": [
  {
   "cell_type": "code",
   "execution_count": 16,
   "metadata": {
    "collapsed": false
   },
   "outputs": [
    {
     "data": {
      "text/plain": [
       "moves (generic function with 1 method)"
      ]
     },
     "execution_count": 16,
     "metadata": {},
     "output_type": "execute_result"
    }
   ],
   "source": [
    "include(\"chess.jl\")"
   ]
  },
  {
   "cell_type": "code",
   "execution_count": 62,
   "metadata": {
    "collapsed": false
   },
   "outputs": [
    {
     "data": {
      "text/plain": [
       "Board([\"Rook\"=>(2,2),\"King\"=>(1,1)],[\"King\"=>(1,1)])"
      ]
     },
     "execution_count": 62,
     "metadata": {},
     "output_type": "execute_result"
    }
   ],
   "source": [
    "# initialize a position\n",
    "pos = Board([\"King\" => (1,1), \"Rook\" => (2,2)], [\"King\" => (1,1)])"
   ]
  },
  {
   "cell_type": "code",
   "execution_count": 111,
   "metadata": {
    "collapsed": false
   },
   "outputs": [
    {
     "data": {
      "text/plain": [
       "moves (generic function with 1 method)"
      ]
     },
     "execution_count": 111,
     "metadata": {},
     "output_type": "execute_result"
    }
   ],
   "source": [
    "# king movement\n",
    "function kingMoves(pos)\n",
    "    newPos = (Int64,Int64)[]\n",
    "    for i = -1:1\n",
    "        for j = -1:1\n",
    "            if( i == 0 && j == 0 )\n",
    "                continue\n",
    "            end\n",
    "            if(i > 0 && i < 9 && j > 0 && j < 9) # board bounds\n",
    "                push!(newPos, (pos[1]+i,pos[2]+j))\n",
    "            end\n",
    "        end\n",
    "    end    \n",
    "    return newPos\n",
    "end\n",
    "\n",
    "# rook movement\n",
    "#function rookMoves(pos)\n",
    "#end\n",
    "\n",
    "function moves(board::Board, player::Int64)\n",
    "    # Assume K+R vs K position for now\n",
    "    currPieces = Dict{String,(Int64,Int64)}\n",
    "    enemyPieces = Dict{String,(Int64,Int64)}\n",
    "\n",
    "    possibleMoves = (String,(Int64,Int64))[]\n",
    "    \n",
    "    if(player == 1)\n",
    "        currPieces = board.piecesWhite\n",
    "        enemyPieces = board.piecesWhite\n",
    "        kingPos = enemyPieces[\"King\"]\n",
    "    else\n",
    "        currPieces = board.piecesBlack\n",
    "        enemyPieces = board.piecesBlack\n",
    "        kingPos = enemyPieces[\"King\"]\n",
    "    end\n",
    "    \n",
    "    push!(possibleMoves,(\"King\",(1,1)))\n",
    "    \n",
    "    # Loop over the pieces\n",
    "    for (piece,pos) in currPieces \n",
    "        if piece == \"King\"\n",
    "            println(\"KING\")\n",
    "            candidateMoves = kingMoves(pos)\n",
    "            \n",
    "            # Prune moves based on rules\n",
    "            # cannot move to location occupied by another piece\n",
    "            for move in candidateMoves\n",
    "                if(length(find(x->x==move),values(enemyPieces)) == 0 || length(find(x->x==move),values(currPieces)) == 0)\n",
    "                    # omit these moves that meet this criteria\n",
    "                    continue;\n",
    "                end\n",
    "            end\n",
    "            \n",
    "            # check king checks & opposition rules\n",
    "            \n",
    "        elseif piece == \"Rook\"\n",
    "            println(\"ROOK\")\n",
    "            candidateMoves = rookMoves(pos)\n",
    "            \n",
    "            for move in candidateMoves\n",
    "                if(length(find(x->x==move),values(enemyPieces)) == 0 || length(find(x->x==move),values(currPieces)) == 0)\n",
    "                    # omit these moves that meet this criteria\n",
    "                    continue;\n",
    "                end\n",
    "            end\n",
    "\n",
    "            # anything else?\n",
    "            \n",
    "        else\n",
    "            println(\"ERROR: piece not implemented\")\n",
    "        end\n",
    "        \n",
    "    end\n",
    "    \n",
    "    return currPieces\n",
    "end"
   ]
  },
  {
   "cell_type": "code",
   "execution_count": 112,
   "metadata": {
    "collapsed": false
   },
   "outputs": [
    {
     "ename": "LoadError",
     "evalue": "b not defined\nwhile loading In[112], in expression starting on line 2",
     "output_type": "error",
     "traceback": [
      "b not defined\nwhile loading In[112], in expression starting on line 2",
      ""
     ]
    }
   ],
   "source": [
    "t = [(1,1),(2,2)]\n",
    "values(b)\n",
    "length(find(x -> x ==(1,1),t))"
   ]
  },
  {
   "cell_type": "code",
   "execution_count": 116,
   "metadata": {
    "collapsed": false
   },
   "outputs": [
    {
     "data": {
      "text/plain": [
       "1x2 Array{ValueIterator{Dict{String,(Int64,Int64)}},2}:\n",
       " [(1,1)]  [(2,2),(1,1)]"
      ]
     },
     "execution_count": 116,
     "metadata": {},
     "output_type": "execute_result"
    }
   ],
   "source": [
    "[values(pos.piecesBlack) values(pos.piecesWhite)]"
   ]
  }
 ],
 "metadata": {
  "kernelspec": {
   "display_name": "Julia 0.3.11",
   "language": "julia",
   "name": "julia-0.3"
  },
  "language_info": {
   "file_extension": ".jl",
   "mimetype": "application/julia",
   "name": "julia",
   "version": "0.3.11"
  }
 },
 "nbformat": 4,
 "nbformat_minor": 0
}
