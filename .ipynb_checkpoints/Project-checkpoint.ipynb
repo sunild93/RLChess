{
 "cells": [
  {
   "cell_type": "code",
   "execution_count": 4,
   "metadata": {
    "collapsed": false
   },
   "outputs": [
    {
     "data": {
      "text/plain": [
       "moves (generic function with 1 method)"
      ]
     },
     "execution_count": 4,
     "metadata": {},
     "output_type": "execute_result"
    }
   ],
   "source": [
    "include(\"chess.jl\")"
   ]
  },
  {
   "cell_type": "code",
   "execution_count": 136,
   "metadata": {
    "collapsed": false
   },
   "outputs": [
    {
     "data": {
      "text/plain": [
       "1-element Array{(String,(Int64,Int64)),1}:\n",
       " (\"King\",(4,1))"
      ]
     },
     "execution_count": 136,
     "metadata": {},
     "output_type": "execute_result"
    }
   ],
   "source": [
    "# initialize a position\n",
    "pos = Board([\"King\" => (3,3), \"Rook\" => (4,1)], [\"King\" => (3,1)])\n",
    "moves(pos, 2)\n"
   ]
  },
  {
   "cell_type": "code",
   "execution_count": 125,
   "metadata": {
    "collapsed": false
   },
   "outputs": [
    {
     "data": {
      "text/plain": [
       "moves (generic function with 1 method)"
      ]
     },
     "execution_count": 125,
     "metadata": {},
     "output_type": "execute_result"
    }
   ],
   "source": [
    "# king movement\n",
    "function kingMoves(pos)\n",
    "    newPositions = (Int64,Int64)[]\n",
    "    for i = -1:1\n",
    "        for j = -1:1\n",
    "            if( i == 0 && j == 0 )\n",
    "                continue\n",
    "            end\n",
    "            posNew = (pos[1]+i, pos[2]+j)\n",
    "\n",
    "            if(posNew[1] > 0 && posNew[1] < 9 && posNew[2] > 0 && posNew[2] < 9) # board bounds\n",
    "                push!(newPositions, posNew)\n",
    "            end\n",
    "        end\n",
    "    end    \n",
    "    return newPositions\n",
    "end\n",
    "\n",
    "# rook movement\n",
    "function rookMoves(pos,otherPiece)\n",
    "    newPositions = (Int64,Int64)[];\n",
    "    x = pos[1]\n",
    "    y = pos[2]\n",
    "    \n",
    "    # move right\n",
    "    for i = x+1:8  \n",
    "        posNew = (i,y)\n",
    "        if(posNew == otherPiece)\n",
    "            break\n",
    "        end\n",
    "        push!(newPositions,posNew) \n",
    "    end\n",
    "    \n",
    "    # move left    \n",
    "    for i = x-1:-1:1\n",
    "        posNew = (i,y)\n",
    "        if(posNew == otherPiece)\n",
    "            break\n",
    "        end\n",
    "        push!(newPositions,posNew) \n",
    "    end\n",
    "    \n",
    "    # move up    \n",
    "    for j = y+1:8  \n",
    "        posNew = (x,j)\n",
    "        if(posNew == otherPiece)\n",
    "            break\n",
    "        end\n",
    "        push!(newPositions,posNew) \n",
    "    end\n",
    "    \n",
    "    # move down        \n",
    "    for j = y-1:-1:1\n",
    "        posNew = (x,j)\n",
    "        if(posNew == otherPiece)\n",
    "            break\n",
    "        end\n",
    "        push!(newPositions,posNew) \n",
    "    end\n",
    "    \n",
    "    return newPositions\n",
    "end\n",
    "\n",
    "function moves(board::Board, player::Int64)\n",
    "    # Assumes K+R vs K position for move generation/validation simplicity\n",
    "    \n",
    "    currPieces = Dict{String,(Int64,Int64)}\n",
    "    enemyPieces = Dict{String,(Int64,Int64)}\n",
    "\n",
    "    possibleMoves = (String,(Int64,Int64))[]\n",
    "    \n",
    "    if(player == 1) # white move\n",
    "        currPieces = board.piecesWhite\n",
    "        enemyPieces = board.piecesBlack\n",
    "    else # black move\n",
    "        currPieces = board.piecesBlack\n",
    "        enemyPieces = board.piecesWhite\n",
    "    end\n",
    "    \n",
    "    \n",
    "    # Loop over the pieces\n",
    "    for (piece,pos) in currPieces \n",
    "        if piece == \"King\"\n",
    "            candidateMoves = kingMoves(pos)\n",
    "            # Do not overlap your own pieces!\n",
    "            filter!(x -> !in(x,values(currPieces)), candidateMoves)\n",
    "            checks = (Int64,Int64)[]\n",
    "            for (enemyPiece,enemyPos) in enemyPieces\n",
    "                if(enemyPiece == \"King\")\n",
    "                    checks = [checks, kingMoves(enemyPos)] \n",
    "                end\n",
    "                if(enemyPiece == \"Rook\")\n",
    "                    checks = [checks, rookMoves(enemyPos,enemyPieces[\"King\"])]\n",
    "                end\n",
    "            end\n",
    "            \n",
    "            # Filter out placing king in check\n",
    "            filter!(x->!in(x,checks),candidateMoves)\n",
    "            \n",
    "            [push!(possibleMoves,(\"King\", move)) for move in candidateMoves]\n",
    "            \n",
    "        elseif piece == \"Rook\"\n",
    "            candidateMoves = rookMoves(pos,currPieces[\"King\"])\n",
    "            [push!(possibleMoves,(\"Rook\", move)) for move in candidateMoves]\n",
    "        else\n",
    "            println(\"ERROR: piece type not implemented\")\n",
    "        end        \n",
    "    end\n",
    "   \n",
    "    return possibleMoves\n",
    "end"
   ]
  },
  {
   "cell_type": "code",
   "execution_count": 119,
   "metadata": {
    "collapsed": false
   },
   "outputs": [
    {
     "name": "stdout",
     "output_type": "stream",
     "text": [
      "[(3,2),(4,2),(5,2),(6,2),(7,2),(8,2),(1,2),(2,3),(2,4),(2,5),(2,6),(2,7),(2,8),(2,1),(3,2),(4,2),(5,2),(6,2),(7,2),(8,2),(1,2),(2,3),(2,4),(2,5),(2,6),(2,7),(2,8),(2,1)]\n"
     ]
    }
   ],
   "source": [
    "checks = (Int64,Int64)[]\n",
    "\n",
    "checks = [checks, rookMoves((2,2),(1,1))]\n",
    "println([checks,rookMoves((2,2),(1,1))])"
   ]
  },
  {
   "cell_type": "code",
   "execution_count": 15,
   "metadata": {
    "collapsed": false
   },
   "outputs": [
    {
     "data": {
      "text/plain": [
       "5-element Array{(Int64,Int64),1}:\n",
       " (1,1)\n",
       " (1,3)\n",
       " (2,1)\n",
       " (2,2)\n",
       " (2,3)"
      ]
     },
     "execution_count": 15,
     "metadata": {},
     "output_type": "execute_result"
    }
   ],
   "source": []
  }
 ],
 "metadata": {
  "kernelspec": {
   "display_name": "Julia 0.3.11",
   "language": "julia",
   "name": "julia-0.3"
  },
  "language_info": {
   "file_extension": ".jl",
   "mimetype": "application/julia",
   "name": "julia",
   "version": "0.3.11"
  }
 },
 "nbformat": 4,
 "nbformat_minor": 0
}
