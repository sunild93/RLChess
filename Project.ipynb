{
 "cells": [
  {
   "cell_type": "code",
   "execution_count": 324,
   "metadata": {
    "collapsed": false
   },
   "outputs": [
    {
     "data": {
      "text/plain": [
       "makeMove! (generic function with 1 method)"
      ]
     },
     "execution_count": 324,
     "metadata": {},
     "output_type": "execute_result"
    }
   ],
   "source": [
    "include(\"chess.jl\")  # This handles the board position and moves"
   ]
  },
  {
   "cell_type": "code",
   "execution_count": 61,
   "metadata": {
    "collapsed": false
   },
   "outputs": [
    {
     "name": "stdout",
     "output_type": "stream",
     "text": [
      "(\"Rook\",(4,2))\n"
     ]
    },
    {
     "data": {
      "text/plain": [
       "Board([\"Rook\"=>(4,2),\"King\"=>(3,3)],[\"King\"=>(4,5)])"
      ]
     },
     "execution_count": 61,
     "metadata": {},
     "output_type": "execute_result"
    }
   ],
   "source": [
    "# initialize a position\n",
    "pos = Board([\"King\" => (3,3), \"Rook\" => (3,2)], [\"King\" => (4,5)])\n",
    "wMoves = moves(pos, 1)\n",
    "\n",
    "println(wMoves[1])\n",
    "makeMove!(pos,wMoves[1],1)\n",
    "pos"
   ]
  },
  {
   "cell_type": "code",
   "execution_count": 88,
   "metadata": {
    "collapsed": false
   },
   "outputs": [
    {
     "name": "stdout",
     "output_type": "stream",
     "text": [
      "Move W: (\"Rook\",(3,1))\n",
      "Move B: (\"King\",(5,8))\n",
      "Move W: (\"King\",(3,2))\n",
      "Move B: (\"King\",(6,7))\n",
      "Move W: (\"King\",(4,2))\n",
      "Move B: (\"King\",(7,8))\n",
      "Move W: (\"Rook\",(1,1))\n",
      "Move B: (\"King\",(6,8))\n",
      "Move W: (\"Rook\",(1,2))\n",
      "Move B: (\"King\",(6,7))\n",
      "Move W: (\"King\",(3,3))\n",
      "Move B: (\"King\",(7,7))\n",
      "Move W: (\"Rook\",(6,2))\n",
      "Move B: (\"King\",(7,8))\n",
      "Move W: (\"King\",(4,4))\n",
      "Move B: (\"King\",(8,7))\n",
      "Move W: (\"Rook\",(1,2))\n",
      "Move B: (\"King\",(8,8))\n",
      "Move W: (\"King\",(5,5))\n",
      "Move B: (\"King\",(8,7))\n",
      "Move W: (\"Rook\",(7,2))\n",
      "Move B: (\"King\",(8,8))\n",
      "Move W: (\"Rook\",(7,3))\n",
      "Move B: (\"King\",(8,7))\n",
      "Move W: (\"King\",(5,6))\n",
      "Move B: (\"King\",(8,8))\n",
      "Move W: (\"Rook\",(8,3))\n",
      "Move B: (\"King\",(7,8))\n",
      "Move W: (\"King\",(5,7))\n",
      "Move B: (\"King\",(7,7))\n"
     ]
    },
    {
     "data": {
      "text/plain": [
       "Board([\"Rook\"=>(8,3),\"King\"=>(5,7)],[\"King\"=>(7,7)])"
      ]
     },
     "execution_count": 88,
     "metadata": {},
     "output_type": "execute_result"
    }
   ],
   "source": [
    "iter = 0;\n",
    "pos = Board([\"King\" => (3,3), \"Rook\" => (3,2)], [\"King\" => (4,7)])\n",
    "while(iter < 15)\n",
    "    moveChoicesW = moves(pos,1)\n",
    "    m = moveChoicesW[rand(1:end)]\n",
    "    println(\"Move W: $m\")\n",
    "    makeMove!(pos,m,1)\n",
    "\n",
    "    moveChoicesB = moves(pos,2)\n",
    "    m2 = moveChoicesB[rand(1:end)]\n",
    "    println(\"Move B: $m2\")\n",
    "    makeMove!(pos,m2,2)\n",
    "    iter += 1\n",
    "    \n",
    "    if(!validPos(pos))\n",
    "        println(\"ERROR\")\n",
    "    end \n",
    "end\n",
    "\n",
    "pos"
   ]
  },
  {
   "cell_type": "code",
   "execution_count": 433,
   "metadata": {
    "collapsed": false
   },
   "outputs": [
    {
     "data": {
      "text/plain": [
       "reward (generic function with 1 method)"
      ]
     },
     "execution_count": 433,
     "metadata": {},
     "output_type": "execute_result"
    }
   ],
   "source": [
    "# Reward function\n",
    "# Gives reward for checkmate +20, penalty for stalemate -10, small gradient on black king to sides of board\n",
    "function reward(state::Board, gameOver::Bool)\n",
    "    WIN = 50\n",
    "    DRAW = -10    \n",
    "    if(length(state.piecesWhite) == 1) #draw\n",
    "        return DRAW\n",
    "    end\n",
    "    if(gameOver == true)\n",
    "        if(blackInCheck(state))\n",
    "            return WIN\n",
    "        else\n",
    "            return DRAW\n",
    "        end\n",
    "    end\n",
    "    \n",
    "    kingPos = state.piecesBlack[\"King\"]\n",
    "    return 0 #max(abs(kingPos[1]-4.5),abs(kingPos[2]-4.5)) # encourage pushing king away from center\n",
    "end"
   ]
  },
  {
   "cell_type": "code",
   "execution_count": 451,
   "metadata": {
    "collapsed": false
   },
   "outputs": [
    {
     "name": "stdout",
     "output_type": "stream",
     "text": [
      "Won in 81 moves\n",
      "Won in 53 moves\n",
      "Won in 41 moves\n",
      "Won in 15 moves\n",
      "Won in 32 moves\n",
      "Won in 51 moves\n",
      "Won in 44 moves\n",
      "Won in 49 moves\n"
     ]
    }
   ],
   "source": [
    "# Outputs the state as string for hashmap to work properly\n",
    "function board2str(state::Board)\n",
    "    string = \"K$(state.piecesWhite[\"King\"])R$(state.piecesWhite[\"Rook\"])K$(state.piecesBlack[\"King\"])\"\n",
    "end\n",
    "\n",
    "\n",
    "moveCount = 0\n",
    "α = .1 # learning rate\n",
    "γ = .9 # horizon\n",
    "λ = .9 # eligibility trace\n",
    "\n",
    "testState =  randomState() #Board([\"King\" => (3,3), \"Rook\" => (8,2)], [\"King\" => (1,1)])\n",
    "\n",
    "# state = randomState();\n",
    "state = deepcopy(testState)\n",
    "\n",
    "\n",
    "WHITE = 1;\n",
    "BLACK = 2;\n",
    "\n",
    "# Initialize data-structures\n",
    "Q = Dict{String,Dict{(String,(Int64,Int64)),Float64}}()\n",
    "stateHistory = Board[]\n",
    "actionHistory = (String,(Int64,Int64))[]\n",
    "gameCount = 0;\n",
    "while (gameCount < 1000)\n",
    "    ϵ = .4\n",
    "    movesWhite = moves(state,WHITE)\n",
    "    state_str = board2str(state)\n",
    "    # Add state/action pairs to Q(s,a) dictionary\n",
    "    if(!haskey(Q,state_str))\n",
    "        Q[state_str] = [a => 0.0 for a in movesWhite]\n",
    "    end\n",
    "    \n",
    "    if(gameCount > 600)\n",
    "        ϵ = .7\n",
    "    end\n",
    "    # Exploration strategy: optimal choice for now ...\n",
    "    if(rand() < ϵ) # Optimal Q\n",
    "        action = reduce((x, y) -> Q[state_str][x] >= Q[state_str][y] ? x : y, keys(Q[state_str]))\n",
    "    else # random explore\n",
    "        action = movesWhite[rand(1:end)]\n",
    "    end\n",
    "    value = Q[state_str][action]\n",
    "    # Save state/action pair for eligibility traces\n",
    "    push!(stateHistory,deepcopy(state))\n",
    "    push!(actionHistory,deepcopy(action))\n",
    "    # Updates the game state\n",
    "    makeMove!(state, action, WHITE)\n",
    "    \n",
    "    # Opponent moves\n",
    "    opponentMoves = moves(state,BLACK)\n",
    "    \n",
    "    # opponent strategy -- random\n",
    "    gameOver = false\n",
    "    if(length(opponentMoves)>0)\n",
    "        responseAction = opponentMoves[rand(1:end)]\n",
    "        makeMove!(state, responseAction, BLACK)\n",
    "    end\n",
    "    if(length(opponentMoves) == 0 || length(state.piecesWhite) == 1)\n",
    "        gameOver = true\n",
    "    end\n",
    "    # state = s_{t+1}\n",
    "    # reward = r_{t}\n",
    "    r = reward(state, gameOver)\n",
    "\n",
    "    if(gameOver || moveCount > 200)\n",
    "#         println(\"--------- GAME OVER ------- moves: $moveCount\")\n",
    "        δ = (r - Q[state_str][action])\n",
    "        Q[state_str][action] += α * δ\n",
    "        \n",
    "        # Eligibility trace update when game is won\n",
    "        if(r >= 20)\n",
    "            for i = 1:length(stateHistory)\n",
    "                s_old = pop!(stateHistory) \n",
    "                a_old = pop!(actionHistory)            \n",
    "                Q[board2str(s_old)][a_old] += α * λ^i * δ\n",
    "            end\n",
    "            println(\"Won in $moveCount moves\")\n",
    "        end\n",
    "        state = deepcopy(testState)\n",
    "        moveCount = 0\n",
    "        gameCount +=1\n",
    "        empty!(stateHistory)\n",
    "        empty!(actionHistory)\n",
    "        continue\n",
    "    end\n",
    "\n",
    "    # Q-learning update\n",
    "    s_t_next = board2str(state)\n",
    "    val = 0;\n",
    "    if(haskey(Q,s_t_next))\n",
    "        val = maximum(values(Q[s_t_next]))\n",
    "    end\n",
    "    \n",
    "    Q[state_str][action] +=  α *(r + γ * val - Q[state_str][action])\n",
    "    \n",
    "    moveCount += 1    \n",
    "end"
   ]
  },
  {
   "cell_type": "code",
   "execution_count": 453,
   "metadata": {
    "collapsed": false
   },
   "outputs": [
    {
     "name": "stdout",
     "output_type": "stream",
     "text": [
      "Board([\"Rook\"=>(5,1),\"King\"=>(2,4)],[\"King\"=>(2,7)])\n"
     ]
    },
    {
     "data": {
      "text/plain": [
       "Dict{(String,(Int64,Int64)),Float64} with 22 entries:\n",
       "  (\"King\",(1,3)) => 0.14436240871396208\n",
       "  (\"King\",(3,4)) => 6.805893702263946e-6\n",
       "  (\"King\",(3,5)) => 1.913781602160708e-5\n",
       "  (\"King\",(2,5)) => 0.0002691784435611119\n",
       "  (\"King\",(3,3)) => 2.952393625058695e-6\n",
       "  (\"Rook\",(1,1)) => 0.0\n",
       "  (\"Rook\",(4,1)) => 0.0\n",
       "  (\"Rook\",(5,2)) => 0.0\n",
       "  (\"Rook\",(6,1)) => 0.0\n",
       "  (\"Rook\",(5,4)) => 0.0\n",
       "  (\"Rook\",(7,1)) => 8.532315112685395e-6\n",
       "  (\"Rook\",(5,8)) => 0.0\n",
       "  (\"King\",(1,4)) => 0.027484531397566937\n",
       "  (\"Rook\",(5,5)) => 0.0\n",
       "  (\"Rook\",(5,7)) => 0.0\n",
       "  (\"Rook\",(5,6)) => 0.0\n",
       "  (\"Rook\",(3,1)) => 9.831352523777668e-9\n",
       "  (\"Rook\",(8,1)) => 0.0\n",
       "  (\"Rook\",(2,1)) => 0.0\n",
       "  (\"Rook\",(5,3)) => 0.0\n",
       "  (\"King\",(2,3)) => 0.0013951666786317105\n",
       "  (\"King\",(1,5)) => 1.2137472251577367e-10"
      ]
     },
     "execution_count": 453,
     "metadata": {},
     "output_type": "execute_result"
    }
   ],
   "source": [
    "state = deepcopy(testState)\n",
    "println(testState)\n",
    "Q[board2str(state)]\n",
    "#rand()"
   ]
  }
 ],
 "metadata": {
  "kernelspec": {
   "display_name": "Julia 0.3.11",
   "language": "julia",
   "name": "julia-0.3"
  },
  "language_info": {
   "file_extension": ".jl",
   "mimetype": "application/julia",
   "name": "julia",
   "version": "0.3.11"
  }
 },
 "nbformat": 4,
 "nbformat_minor": 0
}
