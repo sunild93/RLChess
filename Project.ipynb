{
 "cells": [
  {
   "cell_type": "code",
   "execution_count": 1,
   "metadata": {
    "collapsed": false
   },
   "outputs": [
    {
     "data": {
      "text/plain": [
       "moves (generic function with 1 method)"
      ]
     },
     "execution_count": 1,
     "metadata": {},
     "output_type": "execute_result"
    }
   ],
   "source": [
    "include(\"chess.jl\")"
   ]
  },
  {
   "cell_type": "code",
   "execution_count": 6,
   "metadata": {
    "collapsed": false
   },
   "outputs": [
    {
     "data": {
      "text/plain": [
       "13-element Array{(String,(Int64,Int64)),1}:\n",
       " (\"Rook\",(4,2))\n",
       " (\"Rook\",(5,2))\n",
       " (\"Rook\",(6,2))\n",
       " (\"Rook\",(7,2))\n",
       " (\"Rook\",(8,2))\n",
       " (\"Rook\",(2,2))\n",
       " (\"Rook\",(1,2))\n",
       " (\"Rook\",(3,1))\n",
       " (\"King\",(2,3))\n",
       " (\"King\",(2,4))\n",
       " (\"King\",(3,4))\n",
       " (\"King\",(4,3))\n",
       " (\"King\",(4,4))"
      ]
     },
     "execution_count": 6,
     "metadata": {},
     "output_type": "execute_result"
    }
   ],
   "source": [
    "# initialize a position\n",
    "pos = Board([\"King\" => (3,3), \"Rook\" => (3,2)], [\"King\" => (3,1)])\n",
    "moves(pos, 1)\n"
   ]
  },
  {
   "cell_type": "code",
   "execution_count": null,
   "metadata": {
    "collapsed": false
   },
   "outputs": [],
   "source": []
  },
  {
   "cell_type": "code",
   "execution_count": null,
   "metadata": {
    "collapsed": false
   },
   "outputs": [],
   "source": [
    "checks = (Int64,Int64)[]\n",
    "\n",
    "checks = [checks, rookMoves((2,2),(1,1))]\n",
    "println([checks,rookMoves((2,2),(1,1))])"
   ]
  },
  {
   "cell_type": "code",
   "execution_count": null,
   "metadata": {
    "collapsed": false
   },
   "outputs": [],
   "source": []
  }
 ],
 "metadata": {
  "kernelspec": {
   "display_name": "Julia 0.3.11",
   "language": "julia",
   "name": "julia-0.3"
  },
  "language_info": {
   "file_extension": ".jl",
   "mimetype": "application/julia",
   "name": "julia",
   "version": "0.3.11"
  }
 },
 "nbformat": 4,
 "nbformat_minor": 0
}
